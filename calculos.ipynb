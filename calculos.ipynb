{
 "cells": [
  {
   "cell_type": "code",
   "execution_count": 2,
   "metadata": {},
   "outputs": [],
   "source": [
    "from algorithm import doolittle_method,gauss_elimination"
   ]
  },
  {
   "cell_type": "code",
   "execution_count": 4,
   "metadata": {},
   "outputs": [],
   "source": [
    "import pandas as pd\n",
    "import numpy as np\n",
    "\n",
    "#Modo de separacion \",\"\n",
    "a = pd.read_csv('matrix/matrix_a.csv',sep=',', header=None).values\n",
    "b = pd.read_csv('matrix/result_b.csv',sep=',', header=None).values.flatten()\n"
   ]
  },
  {
   "cell_type": "code",
   "execution_count": 5,
   "metadata": {},
   "outputs": [
    {
     "name": "stdout",
     "output_type": "stream",
     "text": [
      "[ -3.5  -9.   40.5 -26.5]\n",
      "(array([[1.        , 0.        , 0.        , 0.        ],\n",
      "       [0.33333333, 1.        , 0.        , 0.        ],\n",
      "       [1.66666667, 1.1       , 1.        , 0.        ],\n",
      "       [1.33333333, 0.4       , 1.03703704, 1.        ]]), array([[ 3.        ,  2.        ,  4.        ,  5.        ],\n",
      "       [ 0.        ,  3.33333333,  3.66666667,  4.33333333],\n",
      "       [ 0.        ,  0.        , -2.7       , -4.1       ],\n",
      "       [ 0.        ,  0.        ,  0.        , -0.14814815]]))\n"
     ]
    }
   ],
   "source": [
    "print(gauss_elimination(a,b))\n",
    "print(doolittle_method(a))"
   ]
  }
 ],
 "metadata": {
  "kernelspec": {
   "display_name": "base",
   "language": "python",
   "name": "python3"
  },
  "language_info": {
   "codemirror_mode": {
    "name": "ipython",
    "version": 3
   },
   "file_extension": ".py",
   "mimetype": "text/x-python",
   "name": "python",
   "nbconvert_exporter": "python",
   "pygments_lexer": "ipython3",
   "version": "3.12.4"
  }
 },
 "nbformat": 4,
 "nbformat_minor": 2
}
